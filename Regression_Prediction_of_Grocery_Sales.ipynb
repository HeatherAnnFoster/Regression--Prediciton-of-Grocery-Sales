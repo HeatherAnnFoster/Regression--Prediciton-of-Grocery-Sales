{
  "nbformat": 4,
  "nbformat_minor": 0,
  "metadata": {
    "colab": {
      "provenance": [],
      "authorship_tag": "ABX9TyNjF12azlJXRmCMZzbOHELe",
      "include_colab_link": true
    },
    "kernelspec": {
      "name": "python3",
      "display_name": "Python 3"
    },
    "language_info": {
      "name": "python"
    }
  },
  "cells": [
    {
      "cell_type": "markdown",
      "metadata": {
        "id": "view-in-github",
        "colab_type": "text"
      },
      "source": [
        "<a href=\"https://colab.research.google.com/github/HeatherAnnFoster/Regression--Prediciton-of-Grocery-Sales/blob/main/Regression_Prediction_of_Grocery_Sales.ipynb\" target=\"_parent\"><img src=\"https://colab.research.google.com/assets/colab-badge.svg\" alt=\"Open In Colab\"/></a>"
      ]
    },
    {
      "cell_type": "markdown",
      "source": [
        "#Regression- Predicition of Grocery Sales#\n",
        "Heather Foster\n"
      ],
      "metadata": {
        "id": "TappHXt-8oir"
      }
    },
    {
      "cell_type": "markdown",
      "source": [
        "## Loading Data ##"
      ],
      "metadata": {
        "id": "30S3L6w59J1q"
      }
    },
    {
      "cell_type": "markdown",
      "source": [
        "## Data Cleaning ##"
      ],
      "metadata": {
        "id": "mSO7k50M9gTN"
      }
    },
    {
      "cell_type": "markdown",
      "source": [
        "## Exploratory Visuals ##"
      ],
      "metadata": {
        "id": "FhGvH4eu9sPd"
      }
    },
    {
      "cell_type": "markdown",
      "source": [
        "## Exploratory Visuals ##"
      ],
      "metadata": {
        "id": "CiulBmwE-XbZ"
      }
    }
  ]
}