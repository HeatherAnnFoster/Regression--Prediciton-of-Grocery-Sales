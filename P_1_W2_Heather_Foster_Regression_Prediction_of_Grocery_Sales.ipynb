{
  "nbformat": 4,
  "nbformat_minor": 0,
  "metadata": {
    "colab": {
      "provenance": [],
      "mount_file_id": "1dIfbTsFj43HoENyJKIjAuyd1OFMDQmtG",
      "authorship_tag": "ABX9TyPw4XIKBSF8+/i7mTzKovp8",
      "include_colab_link": true
    },
    "kernelspec": {
      "name": "python3",
      "display_name": "Python 3"
    },
    "language_info": {
      "name": "python"
    }
  },
  "cells": [
    {
      "cell_type": "markdown",
      "metadata": {
        "id": "view-in-github",
        "colab_type": "text"
      },
      "source": [
        "<a href=\"https://colab.research.google.com/github/HeatherAnnFoster/Regression--Prediciton-of-Grocery-Sales/blob/main/P_1_W2_Heather_Foster_Regression_Prediction_of_Grocery_Sales.ipynb\" target=\"_parent\"><img src=\"https://colab.research.google.com/assets/colab-badge.svg\" alt=\"Open In Colab\"/></a>"
      ]
    },
    {
      "cell_type": "markdown",
      "source": [
        "#Regression- Predicition of Grocery Sales#\n",
        "Heather Foster\n"
      ],
      "metadata": {
        "id": "TappHXt-8oir"
      }
    },
    {
      "cell_type": "markdown",
      "source": [
        "## Loading Data ##\n"
      ],
      "metadata": {
        "id": "30S3L6w59J1q"
      }
    },
    {
      "cell_type": "code",
      "source": [
        "import pandas as pd\n"
      ],
      "metadata": {
        "id": "lupIS7oZhkzU"
      },
      "execution_count": null,
      "outputs": []
    },
    {
      "cell_type": "code",
      "source": [
        "df = pd.read_excel('/content/sales_predictions.xlsx')"
      ],
      "metadata": {
        "id": "T7rwpxLXhwrC"
      },
      "execution_count": null,
      "outputs": []
    },
    {
      "cell_type": "code",
      "source": [
        "df.info()"
      ],
      "metadata": {
        "id": "ReU1vLOyiUOg",
        "colab": {
          "base_uri": "https://localhost:8080/"
        },
        "outputId": "44a021e5-40fd-495b-bd82-f2dc6954737e"
      },
      "execution_count": null,
      "outputs": [
        {
          "output_type": "stream",
          "name": "stdout",
          "text": [
            "<class 'pandas.core.frame.DataFrame'>\n",
            "RangeIndex: 8523 entries, 0 to 8522\n",
            "Data columns (total 12 columns):\n",
            " #   Column                     Non-Null Count  Dtype  \n",
            "---  ------                     --------------  -----  \n",
            " 0   Item_Identifier            8523 non-null   object \n",
            " 1   Item_Weight                7060 non-null   float64\n",
            " 2   Item_Fat_Content           8523 non-null   object \n",
            " 3   Item_Visibility            8523 non-null   float64\n",
            " 4   Item_Type                  8523 non-null   object \n",
            " 5   Item_MRP                   8523 non-null   float64\n",
            " 6   Outlet_Identifier          8523 non-null   object \n",
            " 7   Outlet_Establishment_Year  8523 non-null   int64  \n",
            " 8   Outlet_Size                6113 non-null   object \n",
            " 9   Outlet_Location_Type       8523 non-null   object \n",
            " 10  Outlet_Type                8523 non-null   object \n",
            " 11  Item_Outlet_Sales          8523 non-null   float64\n",
            "dtypes: float64(4), int64(1), object(7)\n",
            "memory usage: 799.2+ KB\n"
          ]
        }
      ]
    },
    {
      "cell_type": "code",
      "source": [
        "df.head()"
      ],
      "metadata": {
        "id": "S6BoX_elkb4H",
        "colab": {
          "base_uri": "https://localhost:8080/",
          "height": 357
        },
        "outputId": "3e86bd59-1b8b-4c4a-ddb7-9ef966b6abd8"
      },
      "execution_count": null,
      "outputs": [
        {
          "output_type": "execute_result",
          "data": {
            "text/plain": [
              "  Item_Identifier  Item_Weight Item_Fat_Content  Item_Visibility  \\\n",
              "0           FDA15         9.30          Low Fat         0.016047   \n",
              "1           DRC01         5.92          Regular         0.019278   \n",
              "2           FDN15        17.50          Low Fat         0.016760   \n",
              "3           FDX07        19.20          Regular         0.000000   \n",
              "4           NCD19         8.93          Low Fat         0.000000   \n",
              "\n",
              "               Item_Type  Item_MRP Outlet_Identifier  \\\n",
              "0                  Dairy  249.8092            OUT049   \n",
              "1            Soft Drinks   48.2692            OUT018   \n",
              "2                   Meat  141.6180            OUT049   \n",
              "3  Fruits and Vegetables  182.0950            OUT010   \n",
              "4              Household   53.8614            OUT013   \n",
              "\n",
              "   Outlet_Establishment_Year Outlet_Size Outlet_Location_Type  \\\n",
              "0                       1999      Medium               Tier 1   \n",
              "1                       2009      Medium               Tier 3   \n",
              "2                       1999      Medium               Tier 1   \n",
              "3                       1998         NaN               Tier 3   \n",
              "4                       1987        High               Tier 3   \n",
              "\n",
              "         Outlet_Type  Item_Outlet_Sales  \n",
              "0  Supermarket Type1          3735.1380  \n",
              "1  Supermarket Type2           443.4228  \n",
              "2  Supermarket Type1          2097.2700  \n",
              "3      Grocery Store           732.3800  \n",
              "4  Supermarket Type1           994.7052  "
            ],
            "text/html": [
              "\n",
              "  <div id=\"df-40d01cc9-4cbb-427e-a18d-802fdc81981a\">\n",
              "    <div class=\"colab-df-container\">\n",
              "      <div>\n",
              "<style scoped>\n",
              "    .dataframe tbody tr th:only-of-type {\n",
              "        vertical-align: middle;\n",
              "    }\n",
              "\n",
              "    .dataframe tbody tr th {\n",
              "        vertical-align: top;\n",
              "    }\n",
              "\n",
              "    .dataframe thead th {\n",
              "        text-align: right;\n",
              "    }\n",
              "</style>\n",
              "<table border=\"1\" class=\"dataframe\">\n",
              "  <thead>\n",
              "    <tr style=\"text-align: right;\">\n",
              "      <th></th>\n",
              "      <th>Item_Identifier</th>\n",
              "      <th>Item_Weight</th>\n",
              "      <th>Item_Fat_Content</th>\n",
              "      <th>Item_Visibility</th>\n",
              "      <th>Item_Type</th>\n",
              "      <th>Item_MRP</th>\n",
              "      <th>Outlet_Identifier</th>\n",
              "      <th>Outlet_Establishment_Year</th>\n",
              "      <th>Outlet_Size</th>\n",
              "      <th>Outlet_Location_Type</th>\n",
              "      <th>Outlet_Type</th>\n",
              "      <th>Item_Outlet_Sales</th>\n",
              "    </tr>\n",
              "  </thead>\n",
              "  <tbody>\n",
              "    <tr>\n",
              "      <th>0</th>\n",
              "      <td>FDA15</td>\n",
              "      <td>9.30</td>\n",
              "      <td>Low Fat</td>\n",
              "      <td>0.016047</td>\n",
              "      <td>Dairy</td>\n",
              "      <td>249.8092</td>\n",
              "      <td>OUT049</td>\n",
              "      <td>1999</td>\n",
              "      <td>Medium</td>\n",
              "      <td>Tier 1</td>\n",
              "      <td>Supermarket Type1</td>\n",
              "      <td>3735.1380</td>\n",
              "    </tr>\n",
              "    <tr>\n",
              "      <th>1</th>\n",
              "      <td>DRC01</td>\n",
              "      <td>5.92</td>\n",
              "      <td>Regular</td>\n",
              "      <td>0.019278</td>\n",
              "      <td>Soft Drinks</td>\n",
              "      <td>48.2692</td>\n",
              "      <td>OUT018</td>\n",
              "      <td>2009</td>\n",
              "      <td>Medium</td>\n",
              "      <td>Tier 3</td>\n",
              "      <td>Supermarket Type2</td>\n",
              "      <td>443.4228</td>\n",
              "    </tr>\n",
              "    <tr>\n",
              "      <th>2</th>\n",
              "      <td>FDN15</td>\n",
              "      <td>17.50</td>\n",
              "      <td>Low Fat</td>\n",
              "      <td>0.016760</td>\n",
              "      <td>Meat</td>\n",
              "      <td>141.6180</td>\n",
              "      <td>OUT049</td>\n",
              "      <td>1999</td>\n",
              "      <td>Medium</td>\n",
              "      <td>Tier 1</td>\n",
              "      <td>Supermarket Type1</td>\n",
              "      <td>2097.2700</td>\n",
              "    </tr>\n",
              "    <tr>\n",
              "      <th>3</th>\n",
              "      <td>FDX07</td>\n",
              "      <td>19.20</td>\n",
              "      <td>Regular</td>\n",
              "      <td>0.000000</td>\n",
              "      <td>Fruits and Vegetables</td>\n",
              "      <td>182.0950</td>\n",
              "      <td>OUT010</td>\n",
              "      <td>1998</td>\n",
              "      <td>NaN</td>\n",
              "      <td>Tier 3</td>\n",
              "      <td>Grocery Store</td>\n",
              "      <td>732.3800</td>\n",
              "    </tr>\n",
              "    <tr>\n",
              "      <th>4</th>\n",
              "      <td>NCD19</td>\n",
              "      <td>8.93</td>\n",
              "      <td>Low Fat</td>\n",
              "      <td>0.000000</td>\n",
              "      <td>Household</td>\n",
              "      <td>53.8614</td>\n",
              "      <td>OUT013</td>\n",
              "      <td>1987</td>\n",
              "      <td>High</td>\n",
              "      <td>Tier 3</td>\n",
              "      <td>Supermarket Type1</td>\n",
              "      <td>994.7052</td>\n",
              "    </tr>\n",
              "  </tbody>\n",
              "</table>\n",
              "</div>\n",
              "      <button class=\"colab-df-convert\" onclick=\"convertToInteractive('df-40d01cc9-4cbb-427e-a18d-802fdc81981a')\"\n",
              "              title=\"Convert this dataframe to an interactive table.\"\n",
              "              style=\"display:none;\">\n",
              "        \n",
              "  <svg xmlns=\"http://www.w3.org/2000/svg\" height=\"24px\"viewBox=\"0 0 24 24\"\n",
              "       width=\"24px\">\n",
              "    <path d=\"M0 0h24v24H0V0z\" fill=\"none\"/>\n",
              "    <path d=\"M18.56 5.44l.94 2.06.94-2.06 2.06-.94-2.06-.94-.94-2.06-.94 2.06-2.06.94zm-11 1L8.5 8.5l.94-2.06 2.06-.94-2.06-.94L8.5 2.5l-.94 2.06-2.06.94zm10 10l.94 2.06.94-2.06 2.06-.94-2.06-.94-.94-2.06-.94 2.06-2.06.94z\"/><path d=\"M17.41 7.96l-1.37-1.37c-.4-.4-.92-.59-1.43-.59-.52 0-1.04.2-1.43.59L10.3 9.45l-7.72 7.72c-.78.78-.78 2.05 0 2.83L4 21.41c.39.39.9.59 1.41.59.51 0 1.02-.2 1.41-.59l7.78-7.78 2.81-2.81c.8-.78.8-2.07 0-2.86zM5.41 20L4 18.59l7.72-7.72 1.47 1.35L5.41 20z\"/>\n",
              "  </svg>\n",
              "      </button>\n",
              "      \n",
              "  <style>\n",
              "    .colab-df-container {\n",
              "      display:flex;\n",
              "      flex-wrap:wrap;\n",
              "      gap: 12px;\n",
              "    }\n",
              "\n",
              "    .colab-df-convert {\n",
              "      background-color: #E8F0FE;\n",
              "      border: none;\n",
              "      border-radius: 50%;\n",
              "      cursor: pointer;\n",
              "      display: none;\n",
              "      fill: #1967D2;\n",
              "      height: 32px;\n",
              "      padding: 0 0 0 0;\n",
              "      width: 32px;\n",
              "    }\n",
              "\n",
              "    .colab-df-convert:hover {\n",
              "      background-color: #E2EBFA;\n",
              "      box-shadow: 0px 1px 2px rgba(60, 64, 67, 0.3), 0px 1px 3px 1px rgba(60, 64, 67, 0.15);\n",
              "      fill: #174EA6;\n",
              "    }\n",
              "\n",
              "    [theme=dark] .colab-df-convert {\n",
              "      background-color: #3B4455;\n",
              "      fill: #D2E3FC;\n",
              "    }\n",
              "\n",
              "    [theme=dark] .colab-df-convert:hover {\n",
              "      background-color: #434B5C;\n",
              "      box-shadow: 0px 1px 3px 1px rgba(0, 0, 0, 0.15);\n",
              "      filter: drop-shadow(0px 1px 2px rgba(0, 0, 0, 0.3));\n",
              "      fill: #FFFFFF;\n",
              "    }\n",
              "  </style>\n",
              "\n",
              "      <script>\n",
              "        const buttonEl =\n",
              "          document.querySelector('#df-40d01cc9-4cbb-427e-a18d-802fdc81981a button.colab-df-convert');\n",
              "        buttonEl.style.display =\n",
              "          google.colab.kernel.accessAllowed ? 'block' : 'none';\n",
              "\n",
              "        async function convertToInteractive(key) {\n",
              "          const element = document.querySelector('#df-40d01cc9-4cbb-427e-a18d-802fdc81981a');\n",
              "          const dataTable =\n",
              "            await google.colab.kernel.invokeFunction('convertToInteractive',\n",
              "                                                     [key], {});\n",
              "          if (!dataTable) return;\n",
              "\n",
              "          const docLinkHtml = 'Like what you see? Visit the ' +\n",
              "            '<a target=\"_blank\" href=https://colab.research.google.com/notebooks/data_table.ipynb>data table notebook</a>'\n",
              "            + ' to learn more about interactive tables.';\n",
              "          element.innerHTML = '';\n",
              "          dataTable['output_type'] = 'display_data';\n",
              "          await google.colab.output.renderOutput(dataTable, element);\n",
              "          const docLink = document.createElement('div');\n",
              "          docLink.innerHTML = docLinkHtml;\n",
              "          element.appendChild(docLink);\n",
              "        }\n",
              "      </script>\n",
              "    </div>\n",
              "  </div>\n",
              "  "
            ]
          },
          "metadata": {},
          "execution_count": 113
        }
      ]
    },
    {
      "cell_type": "code",
      "source": [
        "df.tail()"
      ],
      "metadata": {
        "id": "tvje5vblj4bs",
        "colab": {
          "base_uri": "https://localhost:8080/",
          "height": 357
        },
        "outputId": "15978e00-a749-42f5-c922-4da8aff6e314"
      },
      "execution_count": null,
      "outputs": [
        {
          "output_type": "execute_result",
          "data": {
            "text/plain": [
              "     Item_Identifier  Item_Weight Item_Fat_Content  Item_Visibility  \\\n",
              "8518           FDF22        6.865          Low Fat         0.056783   \n",
              "8519           FDS36        8.380          Regular         0.046982   \n",
              "8520           NCJ29       10.600          Low Fat         0.035186   \n",
              "8521           FDN46        7.210          Regular         0.145221   \n",
              "8522           DRG01       14.800          Low Fat         0.044878   \n",
              "\n",
              "               Item_Type  Item_MRP Outlet_Identifier  \\\n",
              "8518         Snack Foods  214.5218            OUT013   \n",
              "8519        Baking Goods  108.1570            OUT045   \n",
              "8520  Health and Hygiene   85.1224            OUT035   \n",
              "8521         Snack Foods  103.1332            OUT018   \n",
              "8522         Soft Drinks   75.4670            OUT046   \n",
              "\n",
              "      Outlet_Establishment_Year Outlet_Size Outlet_Location_Type  \\\n",
              "8518                       1987        High               Tier 3   \n",
              "8519                       2002         NaN               Tier 2   \n",
              "8520                       2004       Small               Tier 2   \n",
              "8521                       2009      Medium               Tier 3   \n",
              "8522                       1997       Small               Tier 1   \n",
              "\n",
              "            Outlet_Type  Item_Outlet_Sales  \n",
              "8518  Supermarket Type1          2778.3834  \n",
              "8519  Supermarket Type1           549.2850  \n",
              "8520  Supermarket Type1          1193.1136  \n",
              "8521  Supermarket Type2          1845.5976  \n",
              "8522  Supermarket Type1           765.6700  "
            ],
            "text/html": [
              "\n",
              "  <div id=\"df-d28ea0e5-220b-4118-9d45-3a7ea5c6bc6d\">\n",
              "    <div class=\"colab-df-container\">\n",
              "      <div>\n",
              "<style scoped>\n",
              "    .dataframe tbody tr th:only-of-type {\n",
              "        vertical-align: middle;\n",
              "    }\n",
              "\n",
              "    .dataframe tbody tr th {\n",
              "        vertical-align: top;\n",
              "    }\n",
              "\n",
              "    .dataframe thead th {\n",
              "        text-align: right;\n",
              "    }\n",
              "</style>\n",
              "<table border=\"1\" class=\"dataframe\">\n",
              "  <thead>\n",
              "    <tr style=\"text-align: right;\">\n",
              "      <th></th>\n",
              "      <th>Item_Identifier</th>\n",
              "      <th>Item_Weight</th>\n",
              "      <th>Item_Fat_Content</th>\n",
              "      <th>Item_Visibility</th>\n",
              "      <th>Item_Type</th>\n",
              "      <th>Item_MRP</th>\n",
              "      <th>Outlet_Identifier</th>\n",
              "      <th>Outlet_Establishment_Year</th>\n",
              "      <th>Outlet_Size</th>\n",
              "      <th>Outlet_Location_Type</th>\n",
              "      <th>Outlet_Type</th>\n",
              "      <th>Item_Outlet_Sales</th>\n",
              "    </tr>\n",
              "  </thead>\n",
              "  <tbody>\n",
              "    <tr>\n",
              "      <th>8518</th>\n",
              "      <td>FDF22</td>\n",
              "      <td>6.865</td>\n",
              "      <td>Low Fat</td>\n",
              "      <td>0.056783</td>\n",
              "      <td>Snack Foods</td>\n",
              "      <td>214.5218</td>\n",
              "      <td>OUT013</td>\n",
              "      <td>1987</td>\n",
              "      <td>High</td>\n",
              "      <td>Tier 3</td>\n",
              "      <td>Supermarket Type1</td>\n",
              "      <td>2778.3834</td>\n",
              "    </tr>\n",
              "    <tr>\n",
              "      <th>8519</th>\n",
              "      <td>FDS36</td>\n",
              "      <td>8.380</td>\n",
              "      <td>Regular</td>\n",
              "      <td>0.046982</td>\n",
              "      <td>Baking Goods</td>\n",
              "      <td>108.1570</td>\n",
              "      <td>OUT045</td>\n",
              "      <td>2002</td>\n",
              "      <td>NaN</td>\n",
              "      <td>Tier 2</td>\n",
              "      <td>Supermarket Type1</td>\n",
              "      <td>549.2850</td>\n",
              "    </tr>\n",
              "    <tr>\n",
              "      <th>8520</th>\n",
              "      <td>NCJ29</td>\n",
              "      <td>10.600</td>\n",
              "      <td>Low Fat</td>\n",
              "      <td>0.035186</td>\n",
              "      <td>Health and Hygiene</td>\n",
              "      <td>85.1224</td>\n",
              "      <td>OUT035</td>\n",
              "      <td>2004</td>\n",
              "      <td>Small</td>\n",
              "      <td>Tier 2</td>\n",
              "      <td>Supermarket Type1</td>\n",
              "      <td>1193.1136</td>\n",
              "    </tr>\n",
              "    <tr>\n",
              "      <th>8521</th>\n",
              "      <td>FDN46</td>\n",
              "      <td>7.210</td>\n",
              "      <td>Regular</td>\n",
              "      <td>0.145221</td>\n",
              "      <td>Snack Foods</td>\n",
              "      <td>103.1332</td>\n",
              "      <td>OUT018</td>\n",
              "      <td>2009</td>\n",
              "      <td>Medium</td>\n",
              "      <td>Tier 3</td>\n",
              "      <td>Supermarket Type2</td>\n",
              "      <td>1845.5976</td>\n",
              "    </tr>\n",
              "    <tr>\n",
              "      <th>8522</th>\n",
              "      <td>DRG01</td>\n",
              "      <td>14.800</td>\n",
              "      <td>Low Fat</td>\n",
              "      <td>0.044878</td>\n",
              "      <td>Soft Drinks</td>\n",
              "      <td>75.4670</td>\n",
              "      <td>OUT046</td>\n",
              "      <td>1997</td>\n",
              "      <td>Small</td>\n",
              "      <td>Tier 1</td>\n",
              "      <td>Supermarket Type1</td>\n",
              "      <td>765.6700</td>\n",
              "    </tr>\n",
              "  </tbody>\n",
              "</table>\n",
              "</div>\n",
              "      <button class=\"colab-df-convert\" onclick=\"convertToInteractive('df-d28ea0e5-220b-4118-9d45-3a7ea5c6bc6d')\"\n",
              "              title=\"Convert this dataframe to an interactive table.\"\n",
              "              style=\"display:none;\">\n",
              "        \n",
              "  <svg xmlns=\"http://www.w3.org/2000/svg\" height=\"24px\"viewBox=\"0 0 24 24\"\n",
              "       width=\"24px\">\n",
              "    <path d=\"M0 0h24v24H0V0z\" fill=\"none\"/>\n",
              "    <path d=\"M18.56 5.44l.94 2.06.94-2.06 2.06-.94-2.06-.94-.94-2.06-.94 2.06-2.06.94zm-11 1L8.5 8.5l.94-2.06 2.06-.94-2.06-.94L8.5 2.5l-.94 2.06-2.06.94zm10 10l.94 2.06.94-2.06 2.06-.94-2.06-.94-.94-2.06-.94 2.06-2.06.94z\"/><path d=\"M17.41 7.96l-1.37-1.37c-.4-.4-.92-.59-1.43-.59-.52 0-1.04.2-1.43.59L10.3 9.45l-7.72 7.72c-.78.78-.78 2.05 0 2.83L4 21.41c.39.39.9.59 1.41.59.51 0 1.02-.2 1.41-.59l7.78-7.78 2.81-2.81c.8-.78.8-2.07 0-2.86zM5.41 20L4 18.59l7.72-7.72 1.47 1.35L5.41 20z\"/>\n",
              "  </svg>\n",
              "      </button>\n",
              "      \n",
              "  <style>\n",
              "    .colab-df-container {\n",
              "      display:flex;\n",
              "      flex-wrap:wrap;\n",
              "      gap: 12px;\n",
              "    }\n",
              "\n",
              "    .colab-df-convert {\n",
              "      background-color: #E8F0FE;\n",
              "      border: none;\n",
              "      border-radius: 50%;\n",
              "      cursor: pointer;\n",
              "      display: none;\n",
              "      fill: #1967D2;\n",
              "      height: 32px;\n",
              "      padding: 0 0 0 0;\n",
              "      width: 32px;\n",
              "    }\n",
              "\n",
              "    .colab-df-convert:hover {\n",
              "      background-color: #E2EBFA;\n",
              "      box-shadow: 0px 1px 2px rgba(60, 64, 67, 0.3), 0px 1px 3px 1px rgba(60, 64, 67, 0.15);\n",
              "      fill: #174EA6;\n",
              "    }\n",
              "\n",
              "    [theme=dark] .colab-df-convert {\n",
              "      background-color: #3B4455;\n",
              "      fill: #D2E3FC;\n",
              "    }\n",
              "\n",
              "    [theme=dark] .colab-df-convert:hover {\n",
              "      background-color: #434B5C;\n",
              "      box-shadow: 0px 1px 3px 1px rgba(0, 0, 0, 0.15);\n",
              "      filter: drop-shadow(0px 1px 2px rgba(0, 0, 0, 0.3));\n",
              "      fill: #FFFFFF;\n",
              "    }\n",
              "  </style>\n",
              "\n",
              "      <script>\n",
              "        const buttonEl =\n",
              "          document.querySelector('#df-d28ea0e5-220b-4118-9d45-3a7ea5c6bc6d button.colab-df-convert');\n",
              "        buttonEl.style.display =\n",
              "          google.colab.kernel.accessAllowed ? 'block' : 'none';\n",
              "\n",
              "        async function convertToInteractive(key) {\n",
              "          const element = document.querySelector('#df-d28ea0e5-220b-4118-9d45-3a7ea5c6bc6d');\n",
              "          const dataTable =\n",
              "            await google.colab.kernel.invokeFunction('convertToInteractive',\n",
              "                                                     [key], {});\n",
              "          if (!dataTable) return;\n",
              "\n",
              "          const docLinkHtml = 'Like what you see? Visit the ' +\n",
              "            '<a target=\"_blank\" href=https://colab.research.google.com/notebooks/data_table.ipynb>data table notebook</a>'\n",
              "            + ' to learn more about interactive tables.';\n",
              "          element.innerHTML = '';\n",
              "          dataTable['output_type'] = 'display_data';\n",
              "          await google.colab.output.renderOutput(dataTable, element);\n",
              "          const docLink = document.createElement('div');\n",
              "          docLink.innerHTML = docLinkHtml;\n",
              "          element.appendChild(docLink);\n",
              "        }\n",
              "      </script>\n",
              "    </div>\n",
              "  </div>\n",
              "  "
            ]
          },
          "metadata": {},
          "execution_count": 114
        }
      ]
    },
    {
      "cell_type": "markdown",
      "source": [
        "## Data Cleaning ##"
      ],
      "metadata": {
        "id": "mSO7k50M9gTN"
      }
    },
    {
      "cell_type": "code",
      "source": [
        "\n",
        "df.shape"
      ],
      "metadata": {
        "id": "RoZhFC-mmmDk",
        "colab": {
          "base_uri": "https://localhost:8080/"
        },
        "outputId": "1d2925cf-2157-4fbb-e281-d23ed39a0ca5"
      },
      "execution_count": null,
      "outputs": [
        {
          "output_type": "execute_result",
          "data": {
            "text/plain": [
              "(8523, 12)"
            ]
          },
          "metadata": {},
          "execution_count": 115
        }
      ]
    },
    {
      "cell_type": "markdown",
      "source": [
        "There are 8,523 columns and 12 rows in the dataset."
      ],
      "metadata": {
        "id": "02omVpozW4_n"
      }
    },
    {
      "cell_type": "code",
      "source": [
        "\n",
        "df.dtypes"
      ],
      "metadata": {
        "id": "wA5qqSx4m0vV",
        "colab": {
          "base_uri": "https://localhost:8080/"
        },
        "outputId": "1efaace1-d77a-46be-d529-d906a0b23eb1"
      },
      "execution_count": null,
      "outputs": [
        {
          "output_type": "execute_result",
          "data": {
            "text/plain": [
              "Item_Identifier               object\n",
              "Item_Weight                  float64\n",
              "Item_Fat_Content              object\n",
              "Item_Visibility              float64\n",
              "Item_Type                     object\n",
              "Item_MRP                     float64\n",
              "Outlet_Identifier             object\n",
              "Outlet_Establishment_Year      int64\n",
              "Outlet_Size                   object\n",
              "Outlet_Location_Type          object\n",
              "Outlet_Type                   object\n",
              "Item_Outlet_Sales            float64\n",
              "dtype: object"
            ]
          },
          "metadata": {},
          "execution_count": 116
        }
      ]
    },
    {
      "cell_type": "markdown",
      "source": [
        "The Data types are listed above."
      ],
      "metadata": {
        "id": "dw2Fq5zlWzrh"
      }
    },
    {
      "cell_type": "code",
      "source": [
        "df.duplicated().sum()"
      ],
      "metadata": {
        "id": "NsBV2S58sMuZ",
        "colab": {
          "base_uri": "https://localhost:8080/"
        },
        "outputId": "cb763be4-8399-4561-8fbe-545e4c33cd72"
      },
      "execution_count": null,
      "outputs": [
        {
          "output_type": "execute_result",
          "data": {
            "text/plain": [
              "0"
            ]
          },
          "metadata": {},
          "execution_count": 117
        }
      ]
    },
    {
      "cell_type": "code",
      "source": [
        "\n",
        "df.isna().sum()"
      ],
      "metadata": {
        "id": "oN8_ORxttcgk",
        "colab": {
          "base_uri": "https://localhost:8080/"
        },
        "outputId": "80ac49bb-bba2-4d09-c223-0151a9ec7dd2"
      },
      "execution_count": null,
      "outputs": [
        {
          "output_type": "execute_result",
          "data": {
            "text/plain": [
              "Item_Identifier                 0\n",
              "Item_Weight                  1463\n",
              "Item_Fat_Content                0\n",
              "Item_Visibility                 0\n",
              "Item_Type                       0\n",
              "Item_MRP                        0\n",
              "Outlet_Identifier               0\n",
              "Outlet_Establishment_Year       0\n",
              "Outlet_Size                  2410\n",
              "Outlet_Location_Type            0\n",
              "Outlet_Type                     0\n",
              "Item_Outlet_Sales               0\n",
              "dtype: int64"
            ]
          },
          "metadata": {},
          "execution_count": 118
        }
      ]
    },
    {
      "cell_type": "markdown",
      "source": [
        "There are signiciant missing values from Item_Weight and Outlet _size.  Everything else seems to be accounted for."
      ],
      "metadata": {
        "id": "pjHlYyvcWdQE"
      }
    },
    {
      "cell_type": "code",
      "source": [
        "\n",
        "median_Item_Weight=df['Item_Weight'].median()\n",
        "df['Item_Weight'].median()\n"
      ],
      "metadata": {
        "id": "tdNBwzLjx36M",
        "colab": {
          "base_uri": "https://localhost:8080/"
        },
        "outputId": "013787c3-3153-456d-8754-405ecc66f413"
      },
      "execution_count": null,
      "outputs": [
        {
          "output_type": "execute_result",
          "data": {
            "text/plain": [
              "12.6"
            ]
          },
          "metadata": {},
          "execution_count": 119
        }
      ]
    },
    {
      "cell_type": "markdown",
      "source": [
        "There is too much data to drop, in terms of calues for each of the columns.  In order to have a representative look at the values of these columns, I will be filling in the missing data with the median value of the date.  The reason I will be using the median is because this number is less affected by the outliers within the dataset and will produce less bias moving forward.  The median value for Item_Weight is 12.6."
      ],
      "metadata": {
        "id": "FBS1jwdDXKrn"
      }
    },
    {
      "cell_type": "code",
      "source": [
        "df['Item_Weight']"
      ],
      "metadata": {
        "id": "_OpwCZUPZls-",
        "colab": {
          "base_uri": "https://localhost:8080/"
        },
        "outputId": "88f31e12-8a8e-41ea-db50-6535039ccd26"
      },
      "execution_count": null,
      "outputs": [
        {
          "output_type": "execute_result",
          "data": {
            "text/plain": [
              "0        9.300\n",
              "1        5.920\n",
              "2       17.500\n",
              "3       19.200\n",
              "4        8.930\n",
              "         ...  \n",
              "8518     6.865\n",
              "8519     8.380\n",
              "8520    10.600\n",
              "8521     7.210\n",
              "8522    14.800\n",
              "Name: Item_Weight, Length: 8523, dtype: float64"
            ]
          },
          "metadata": {},
          "execution_count": 120
        }
      ]
    },
    {
      "cell_type": "code",
      "source": [
        "df['Item_Weight'].fillna('Missing', inplace = True)\n",
        "df.isna().sum()\n"
      ],
      "metadata": {
        "id": "u2wJ72ZHY9EW",
        "colab": {
          "base_uri": "https://localhost:8080/"
        },
        "outputId": "c7e4dc48-0aff-4cf7-b3c8-396d2d4da756"
      },
      "execution_count": null,
      "outputs": [
        {
          "output_type": "execute_result",
          "data": {
            "text/plain": [
              "Item_Identifier                 0\n",
              "Item_Weight                     0\n",
              "Item_Fat_Content                0\n",
              "Item_Visibility                 0\n",
              "Item_Type                       0\n",
              "Item_MRP                        0\n",
              "Outlet_Identifier               0\n",
              "Outlet_Establishment_Year       0\n",
              "Outlet_Size                  2410\n",
              "Outlet_Location_Type            0\n",
              "Outlet_Type                     0\n",
              "Item_Outlet_Sales               0\n",
              "dtype: int64"
            ]
          },
          "metadata": {},
          "execution_count": 121
        }
      ]
    },
    {
      "cell_type": "markdown",
      "source": [
        "The average for the Item_Weight has been changed to 12.6 and inputted into the dataset.  Therefore, the Item_Weight now has 0 missing values."
      ],
      "metadata": {
        "id": "MvnIELVGZrM-"
      }
    },
    {
      "cell_type": "markdown",
      "source": [
        "The next column to be fixed is the Outlet_Size column.  It is missing 2,410 values.  I will be inputting the median value of this column to complete the data because I would lose too much information if I deleted the column all togther."
      ],
      "metadata": {
        "id": "xODJcTswb8zg"
      }
    },
    {
      "cell_type": "code",
      "source": [
        "df['Outlet_Size']"
      ],
      "metadata": {
        "id": "wAkEqTQvaCJV",
        "colab": {
          "base_uri": "https://localhost:8080/"
        },
        "outputId": "4764c9ce-8371-4ecf-d900-5f594a0ba3ce"
      },
      "execution_count": null,
      "outputs": [
        {
          "output_type": "execute_result",
          "data": {
            "text/plain": [
              "0       Medium\n",
              "1       Medium\n",
              "2       Medium\n",
              "3          NaN\n",
              "4         High\n",
              "         ...  \n",
              "8518      High\n",
              "8519       NaN\n",
              "8520     Small\n",
              "8521    Medium\n",
              "8522     Small\n",
              "Name: Outlet_Size, Length: 8523, dtype: object"
            ]
          },
          "metadata": {},
          "execution_count": 122
        }
      ]
    },
    {
      "cell_type": "markdown",
      "source": [
        "The Outlet_Size was changed to the size that was most ordered."
      ],
      "metadata": {
        "id": "jgjxvB0Sb87W"
      }
    },
    {
      "cell_type": "code",
      "source": [
        "df['Outlet_Size'].fillna('Missing', inplace = True)\n",
        "df.isna().sum()"
      ],
      "metadata": {
        "id": "jV9dMT_9b73_",
        "colab": {
          "base_uri": "https://localhost:8080/"
        },
        "outputId": "7498d772-3d67-4d02-cbbb-3743b657b3fc"
      },
      "execution_count": null,
      "outputs": [
        {
          "output_type": "execute_result",
          "data": {
            "text/plain": [
              "Item_Identifier              0\n",
              "Item_Weight                  0\n",
              "Item_Fat_Content             0\n",
              "Item_Visibility              0\n",
              "Item_Type                    0\n",
              "Item_MRP                     0\n",
              "Outlet_Identifier            0\n",
              "Outlet_Establishment_Year    0\n",
              "Outlet_Size                  0\n",
              "Outlet_Location_Type         0\n",
              "Outlet_Type                  0\n",
              "Item_Outlet_Sales            0\n",
              "dtype: int64"
            ]
          },
          "metadata": {},
          "execution_count": 123
        }
      ]
    },
    {
      "cell_type": "code",
      "source": [
        "df.isna().sum()"
      ],
      "metadata": {
        "id": "e9YUsxwciwCR",
        "colab": {
          "base_uri": "https://localhost:8080/"
        },
        "outputId": "04191e9d-2d31-473b-f33f-d4cd52906305"
      },
      "execution_count": null,
      "outputs": [
        {
          "output_type": "execute_result",
          "data": {
            "text/plain": [
              "Item_Identifier              0\n",
              "Item_Weight                  0\n",
              "Item_Fat_Content             0\n",
              "Item_Visibility              0\n",
              "Item_Type                    0\n",
              "Item_MRP                     0\n",
              "Outlet_Identifier            0\n",
              "Outlet_Establishment_Year    0\n",
              "Outlet_Size                  0\n",
              "Outlet_Location_Type         0\n",
              "Outlet_Type                  0\n",
              "Item_Outlet_Sales            0\n",
              "dtype: int64"
            ]
          },
          "metadata": {},
          "execution_count": 124
        }
      ]
    },
    {
      "cell_type": "markdown",
      "source": [
        "This is the double check to make sure no columns are missing values.  Because everything has a 0 value in it, this shows that all the columns and rows have a value in it."
      ],
      "metadata": {
        "id": "AMz1fsV5b9Ba"
      }
    },
    {
      "cell_type": "code",
      "source": [
        "dict = {\"low fat\": \"Low Fat\", \"reg\": \"Regular\", \"LF\": \"Low Fat\"}\n",
        "df.replace({'Item_Fat_Content':dict}, inplace = True)"
      ],
      "metadata": {
        "id": "KEW86oj6K2ts"
      },
      "execution_count": null,
      "outputs": []
    },
    {
      "cell_type": "markdown",
      "source": [
        "The inconsistencies have been replaced and fixed.  They are uniform throughout the dataset.  The following excerpt of data shows the change."
      ],
      "metadata": {
        "id": "dZAsKB38mvm_"
      }
    },
    {
      "cell_type": "code",
      "source": [
        "df.head(30)"
      ],
      "metadata": {
        "id": "J-m1xDnNmOoF",
        "colab": {
          "base_uri": "https://localhost:8080/",
          "height": 1000
        },
        "outputId": "31b129fe-f162-4251-82dc-256be5d288a9"
      },
      "execution_count": null,
      "outputs": [
        {
          "output_type": "execute_result",
          "data": {
            "text/plain": [
              "   Item_Identifier Item_Weight Item_Fat_Content  Item_Visibility  \\\n",
              "0            FDA15         9.3          Low Fat         0.016047   \n",
              "1            DRC01        5.92          Regular         0.019278   \n",
              "2            FDN15        17.5          Low Fat         0.016760   \n",
              "3            FDX07        19.2          Regular         0.000000   \n",
              "4            NCD19        8.93          Low Fat         0.000000   \n",
              "5            FDP36      10.395          Regular         0.000000   \n",
              "6            FDO10       13.65          Regular         0.012741   \n",
              "7            FDP10     Missing          Low Fat         0.127470   \n",
              "8            FDH17        16.2          Regular         0.016687   \n",
              "9            FDU28        19.2          Regular         0.094450   \n",
              "10           FDY07        11.8          Low Fat         0.000000   \n",
              "11           FDA03        18.5          Regular         0.045464   \n",
              "12           FDX32        15.1          Regular         0.100014   \n",
              "13           FDS46        17.6          Regular         0.047257   \n",
              "14           FDF32       16.35          Low Fat         0.068024   \n",
              "15           FDP49         9.0          Regular         0.069089   \n",
              "16           NCB42        11.8          Low Fat         0.008596   \n",
              "17           FDP49         9.0          Regular         0.069196   \n",
              "18           DRI11     Missing          Low Fat         0.034238   \n",
              "19           FDU02       13.35          Low Fat         0.102492   \n",
              "20           FDN22       18.85          Regular         0.138190   \n",
              "21           FDW12     Missing          Regular         0.035400   \n",
              "22           NCB30        14.6          Low Fat         0.025698   \n",
              "23           FDC37     Missing          Low Fat         0.057557   \n",
              "24           FDR28       13.85          Regular         0.025896   \n",
              "25           NCD06        13.0          Low Fat         0.099887   \n",
              "26           FDV10       7.645          Regular         0.066693   \n",
              "27           DRJ59       11.65          Low Fat         0.019356   \n",
              "28           FDE51       5.925          Regular         0.161467   \n",
              "29           FDC14     Missing          Regular         0.072222   \n",
              "\n",
              "                Item_Type  Item_MRP Outlet_Identifier  \\\n",
              "0                   Dairy  249.8092            OUT049   \n",
              "1             Soft Drinks   48.2692            OUT018   \n",
              "2                    Meat  141.6180            OUT049   \n",
              "3   Fruits and Vegetables  182.0950            OUT010   \n",
              "4               Household   53.8614            OUT013   \n",
              "5            Baking Goods   51.4008            OUT018   \n",
              "6             Snack Foods   57.6588            OUT013   \n",
              "7             Snack Foods  107.7622            OUT027   \n",
              "8            Frozen Foods   96.9726            OUT045   \n",
              "9            Frozen Foods  187.8214            OUT017   \n",
              "10  Fruits and Vegetables   45.5402            OUT049   \n",
              "11                  Dairy  144.1102            OUT046   \n",
              "12  Fruits and Vegetables  145.4786            OUT049   \n",
              "13            Snack Foods  119.6782            OUT046   \n",
              "14  Fruits and Vegetables  196.4426            OUT013   \n",
              "15              Breakfast   56.3614            OUT046   \n",
              "16     Health and Hygiene  115.3492            OUT018   \n",
              "17              Breakfast   54.3614            OUT049   \n",
              "18            Hard Drinks  113.2834            OUT027   \n",
              "19                  Dairy  230.5352            OUT035   \n",
              "20            Snack Foods  250.8724            OUT013   \n",
              "21           Baking Goods  144.5444            OUT027   \n",
              "22              Household  196.5084            OUT035   \n",
              "23           Baking Goods  107.6938            OUT019   \n",
              "24           Frozen Foods  165.0210            OUT046   \n",
              "25              Household   45.9060            OUT017   \n",
              "26            Snack Foods   42.3112            OUT035   \n",
              "27            Hard Drinks   39.1164            OUT013   \n",
              "28                  Dairy   45.5086            OUT010   \n",
              "29                 Canned   43.6454            OUT019   \n",
              "\n",
              "    Outlet_Establishment_Year Outlet_Size Outlet_Location_Type  \\\n",
              "0                        1999      Medium               Tier 1   \n",
              "1                        2009      Medium               Tier 3   \n",
              "2                        1999      Medium               Tier 1   \n",
              "3                        1998     Missing               Tier 3   \n",
              "4                        1987        High               Tier 3   \n",
              "5                        2009      Medium               Tier 3   \n",
              "6                        1987        High               Tier 3   \n",
              "7                        1985      Medium               Tier 3   \n",
              "8                        2002     Missing               Tier 2   \n",
              "9                        2007     Missing               Tier 2   \n",
              "10                       1999      Medium               Tier 1   \n",
              "11                       1997       Small               Tier 1   \n",
              "12                       1999      Medium               Tier 1   \n",
              "13                       1997       Small               Tier 1   \n",
              "14                       1987        High               Tier 3   \n",
              "15                       1997       Small               Tier 1   \n",
              "16                       2009      Medium               Tier 3   \n",
              "17                       1999      Medium               Tier 1   \n",
              "18                       1985      Medium               Tier 3   \n",
              "19                       2004       Small               Tier 2   \n",
              "20                       1987        High               Tier 3   \n",
              "21                       1985      Medium               Tier 3   \n",
              "22                       2004       Small               Tier 2   \n",
              "23                       1985       Small               Tier 1   \n",
              "24                       1997       Small               Tier 1   \n",
              "25                       2007     Missing               Tier 2   \n",
              "26                       2004       Small               Tier 2   \n",
              "27                       1987        High               Tier 3   \n",
              "28                       1998     Missing               Tier 3   \n",
              "29                       1985       Small               Tier 1   \n",
              "\n",
              "          Outlet_Type  Item_Outlet_Sales  \n",
              "0   Supermarket Type1          3735.1380  \n",
              "1   Supermarket Type2           443.4228  \n",
              "2   Supermarket Type1          2097.2700  \n",
              "3       Grocery Store           732.3800  \n",
              "4   Supermarket Type1           994.7052  \n",
              "5   Supermarket Type2           556.6088  \n",
              "6   Supermarket Type1           343.5528  \n",
              "7   Supermarket Type3          4022.7636  \n",
              "8   Supermarket Type1          1076.5986  \n",
              "9   Supermarket Type1          4710.5350  \n",
              "10  Supermarket Type1          1516.0266  \n",
              "11  Supermarket Type1          2187.1530  \n",
              "12  Supermarket Type1          1589.2646  \n",
              "13  Supermarket Type1          2145.2076  \n",
              "14  Supermarket Type1          1977.4260  \n",
              "15  Supermarket Type1          1547.3192  \n",
              "16  Supermarket Type2          1621.8888  \n",
              "17  Supermarket Type1           718.3982  \n",
              "18  Supermarket Type3          2303.6680  \n",
              "19  Supermarket Type1          2748.4224  \n",
              "20  Supermarket Type1          3775.0860  \n",
              "21  Supermarket Type3          4064.0432  \n",
              "22  Supermarket Type1          1587.2672  \n",
              "23      Grocery Store           214.3876  \n",
              "24  Supermarket Type1          4078.0250  \n",
              "25  Supermarket Type1           838.9080  \n",
              "26  Supermarket Type1          1065.2800  \n",
              "27  Supermarket Type1           308.9312  \n",
              "28      Grocery Store           178.4344  \n",
              "29      Grocery Store           125.8362  "
            ],
            "text/html": [
              "\n",
              "  <div id=\"df-060d22c6-c774-440a-8097-34b4a1e9b82d\">\n",
              "    <div class=\"colab-df-container\">\n",
              "      <div>\n",
              "<style scoped>\n",
              "    .dataframe tbody tr th:only-of-type {\n",
              "        vertical-align: middle;\n",
              "    }\n",
              "\n",
              "    .dataframe tbody tr th {\n",
              "        vertical-align: top;\n",
              "    }\n",
              "\n",
              "    .dataframe thead th {\n",
              "        text-align: right;\n",
              "    }\n",
              "</style>\n",
              "<table border=\"1\" class=\"dataframe\">\n",
              "  <thead>\n",
              "    <tr style=\"text-align: right;\">\n",
              "      <th></th>\n",
              "      <th>Item_Identifier</th>\n",
              "      <th>Item_Weight</th>\n",
              "      <th>Item_Fat_Content</th>\n",
              "      <th>Item_Visibility</th>\n",
              "      <th>Item_Type</th>\n",
              "      <th>Item_MRP</th>\n",
              "      <th>Outlet_Identifier</th>\n",
              "      <th>Outlet_Establishment_Year</th>\n",
              "      <th>Outlet_Size</th>\n",
              "      <th>Outlet_Location_Type</th>\n",
              "      <th>Outlet_Type</th>\n",
              "      <th>Item_Outlet_Sales</th>\n",
              "    </tr>\n",
              "  </thead>\n",
              "  <tbody>\n",
              "    <tr>\n",
              "      <th>0</th>\n",
              "      <td>FDA15</td>\n",
              "      <td>9.3</td>\n",
              "      <td>Low Fat</td>\n",
              "      <td>0.016047</td>\n",
              "      <td>Dairy</td>\n",
              "      <td>249.8092</td>\n",
              "      <td>OUT049</td>\n",
              "      <td>1999</td>\n",
              "      <td>Medium</td>\n",
              "      <td>Tier 1</td>\n",
              "      <td>Supermarket Type1</td>\n",
              "      <td>3735.1380</td>\n",
              "    </tr>\n",
              "    <tr>\n",
              "      <th>1</th>\n",
              "      <td>DRC01</td>\n",
              "      <td>5.92</td>\n",
              "      <td>Regular</td>\n",
              "      <td>0.019278</td>\n",
              "      <td>Soft Drinks</td>\n",
              "      <td>48.2692</td>\n",
              "      <td>OUT018</td>\n",
              "      <td>2009</td>\n",
              "      <td>Medium</td>\n",
              "      <td>Tier 3</td>\n",
              "      <td>Supermarket Type2</td>\n",
              "      <td>443.4228</td>\n",
              "    </tr>\n",
              "    <tr>\n",
              "      <th>2</th>\n",
              "      <td>FDN15</td>\n",
              "      <td>17.5</td>\n",
              "      <td>Low Fat</td>\n",
              "      <td>0.016760</td>\n",
              "      <td>Meat</td>\n",
              "      <td>141.6180</td>\n",
              "      <td>OUT049</td>\n",
              "      <td>1999</td>\n",
              "      <td>Medium</td>\n",
              "      <td>Tier 1</td>\n",
              "      <td>Supermarket Type1</td>\n",
              "      <td>2097.2700</td>\n",
              "    </tr>\n",
              "    <tr>\n",
              "      <th>3</th>\n",
              "      <td>FDX07</td>\n",
              "      <td>19.2</td>\n",
              "      <td>Regular</td>\n",
              "      <td>0.000000</td>\n",
              "      <td>Fruits and Vegetables</td>\n",
              "      <td>182.0950</td>\n",
              "      <td>OUT010</td>\n",
              "      <td>1998</td>\n",
              "      <td>Missing</td>\n",
              "      <td>Tier 3</td>\n",
              "      <td>Grocery Store</td>\n",
              "      <td>732.3800</td>\n",
              "    </tr>\n",
              "    <tr>\n",
              "      <th>4</th>\n",
              "      <td>NCD19</td>\n",
              "      <td>8.93</td>\n",
              "      <td>Low Fat</td>\n",
              "      <td>0.000000</td>\n",
              "      <td>Household</td>\n",
              "      <td>53.8614</td>\n",
              "      <td>OUT013</td>\n",
              "      <td>1987</td>\n",
              "      <td>High</td>\n",
              "      <td>Tier 3</td>\n",
              "      <td>Supermarket Type1</td>\n",
              "      <td>994.7052</td>\n",
              "    </tr>\n",
              "    <tr>\n",
              "      <th>5</th>\n",
              "      <td>FDP36</td>\n",
              "      <td>10.395</td>\n",
              "      <td>Regular</td>\n",
              "      <td>0.000000</td>\n",
              "      <td>Baking Goods</td>\n",
              "      <td>51.4008</td>\n",
              "      <td>OUT018</td>\n",
              "      <td>2009</td>\n",
              "      <td>Medium</td>\n",
              "      <td>Tier 3</td>\n",
              "      <td>Supermarket Type2</td>\n",
              "      <td>556.6088</td>\n",
              "    </tr>\n",
              "    <tr>\n",
              "      <th>6</th>\n",
              "      <td>FDO10</td>\n",
              "      <td>13.65</td>\n",
              "      <td>Regular</td>\n",
              "      <td>0.012741</td>\n",
              "      <td>Snack Foods</td>\n",
              "      <td>57.6588</td>\n",
              "      <td>OUT013</td>\n",
              "      <td>1987</td>\n",
              "      <td>High</td>\n",
              "      <td>Tier 3</td>\n",
              "      <td>Supermarket Type1</td>\n",
              "      <td>343.5528</td>\n",
              "    </tr>\n",
              "    <tr>\n",
              "      <th>7</th>\n",
              "      <td>FDP10</td>\n",
              "      <td>Missing</td>\n",
              "      <td>Low Fat</td>\n",
              "      <td>0.127470</td>\n",
              "      <td>Snack Foods</td>\n",
              "      <td>107.7622</td>\n",
              "      <td>OUT027</td>\n",
              "      <td>1985</td>\n",
              "      <td>Medium</td>\n",
              "      <td>Tier 3</td>\n",
              "      <td>Supermarket Type3</td>\n",
              "      <td>4022.7636</td>\n",
              "    </tr>\n",
              "    <tr>\n",
              "      <th>8</th>\n",
              "      <td>FDH17</td>\n",
              "      <td>16.2</td>\n",
              "      <td>Regular</td>\n",
              "      <td>0.016687</td>\n",
              "      <td>Frozen Foods</td>\n",
              "      <td>96.9726</td>\n",
              "      <td>OUT045</td>\n",
              "      <td>2002</td>\n",
              "      <td>Missing</td>\n",
              "      <td>Tier 2</td>\n",
              "      <td>Supermarket Type1</td>\n",
              "      <td>1076.5986</td>\n",
              "    </tr>\n",
              "    <tr>\n",
              "      <th>9</th>\n",
              "      <td>FDU28</td>\n",
              "      <td>19.2</td>\n",
              "      <td>Regular</td>\n",
              "      <td>0.094450</td>\n",
              "      <td>Frozen Foods</td>\n",
              "      <td>187.8214</td>\n",
              "      <td>OUT017</td>\n",
              "      <td>2007</td>\n",
              "      <td>Missing</td>\n",
              "      <td>Tier 2</td>\n",
              "      <td>Supermarket Type1</td>\n",
              "      <td>4710.5350</td>\n",
              "    </tr>\n",
              "    <tr>\n",
              "      <th>10</th>\n",
              "      <td>FDY07</td>\n",
              "      <td>11.8</td>\n",
              "      <td>Low Fat</td>\n",
              "      <td>0.000000</td>\n",
              "      <td>Fruits and Vegetables</td>\n",
              "      <td>45.5402</td>\n",
              "      <td>OUT049</td>\n",
              "      <td>1999</td>\n",
              "      <td>Medium</td>\n",
              "      <td>Tier 1</td>\n",
              "      <td>Supermarket Type1</td>\n",
              "      <td>1516.0266</td>\n",
              "    </tr>\n",
              "    <tr>\n",
              "      <th>11</th>\n",
              "      <td>FDA03</td>\n",
              "      <td>18.5</td>\n",
              "      <td>Regular</td>\n",
              "      <td>0.045464</td>\n",
              "      <td>Dairy</td>\n",
              "      <td>144.1102</td>\n",
              "      <td>OUT046</td>\n",
              "      <td>1997</td>\n",
              "      <td>Small</td>\n",
              "      <td>Tier 1</td>\n",
              "      <td>Supermarket Type1</td>\n",
              "      <td>2187.1530</td>\n",
              "    </tr>\n",
              "    <tr>\n",
              "      <th>12</th>\n",
              "      <td>FDX32</td>\n",
              "      <td>15.1</td>\n",
              "      <td>Regular</td>\n",
              "      <td>0.100014</td>\n",
              "      <td>Fruits and Vegetables</td>\n",
              "      <td>145.4786</td>\n",
              "      <td>OUT049</td>\n",
              "      <td>1999</td>\n",
              "      <td>Medium</td>\n",
              "      <td>Tier 1</td>\n",
              "      <td>Supermarket Type1</td>\n",
              "      <td>1589.2646</td>\n",
              "    </tr>\n",
              "    <tr>\n",
              "      <th>13</th>\n",
              "      <td>FDS46</td>\n",
              "      <td>17.6</td>\n",
              "      <td>Regular</td>\n",
              "      <td>0.047257</td>\n",
              "      <td>Snack Foods</td>\n",
              "      <td>119.6782</td>\n",
              "      <td>OUT046</td>\n",
              "      <td>1997</td>\n",
              "      <td>Small</td>\n",
              "      <td>Tier 1</td>\n",
              "      <td>Supermarket Type1</td>\n",
              "      <td>2145.2076</td>\n",
              "    </tr>\n",
              "    <tr>\n",
              "      <th>14</th>\n",
              "      <td>FDF32</td>\n",
              "      <td>16.35</td>\n",
              "      <td>Low Fat</td>\n",
              "      <td>0.068024</td>\n",
              "      <td>Fruits and Vegetables</td>\n",
              "      <td>196.4426</td>\n",
              "      <td>OUT013</td>\n",
              "      <td>1987</td>\n",
              "      <td>High</td>\n",
              "      <td>Tier 3</td>\n",
              "      <td>Supermarket Type1</td>\n",
              "      <td>1977.4260</td>\n",
              "    </tr>\n",
              "    <tr>\n",
              "      <th>15</th>\n",
              "      <td>FDP49</td>\n",
              "      <td>9.0</td>\n",
              "      <td>Regular</td>\n",
              "      <td>0.069089</td>\n",
              "      <td>Breakfast</td>\n",
              "      <td>56.3614</td>\n",
              "      <td>OUT046</td>\n",
              "      <td>1997</td>\n",
              "      <td>Small</td>\n",
              "      <td>Tier 1</td>\n",
              "      <td>Supermarket Type1</td>\n",
              "      <td>1547.3192</td>\n",
              "    </tr>\n",
              "    <tr>\n",
              "      <th>16</th>\n",
              "      <td>NCB42</td>\n",
              "      <td>11.8</td>\n",
              "      <td>Low Fat</td>\n",
              "      <td>0.008596</td>\n",
              "      <td>Health and Hygiene</td>\n",
              "      <td>115.3492</td>\n",
              "      <td>OUT018</td>\n",
              "      <td>2009</td>\n",
              "      <td>Medium</td>\n",
              "      <td>Tier 3</td>\n",
              "      <td>Supermarket Type2</td>\n",
              "      <td>1621.8888</td>\n",
              "    </tr>\n",
              "    <tr>\n",
              "      <th>17</th>\n",
              "      <td>FDP49</td>\n",
              "      <td>9.0</td>\n",
              "      <td>Regular</td>\n",
              "      <td>0.069196</td>\n",
              "      <td>Breakfast</td>\n",
              "      <td>54.3614</td>\n",
              "      <td>OUT049</td>\n",
              "      <td>1999</td>\n",
              "      <td>Medium</td>\n",
              "      <td>Tier 1</td>\n",
              "      <td>Supermarket Type1</td>\n",
              "      <td>718.3982</td>\n",
              "    </tr>\n",
              "    <tr>\n",
              "      <th>18</th>\n",
              "      <td>DRI11</td>\n",
              "      <td>Missing</td>\n",
              "      <td>Low Fat</td>\n",
              "      <td>0.034238</td>\n",
              "      <td>Hard Drinks</td>\n",
              "      <td>113.2834</td>\n",
              "      <td>OUT027</td>\n",
              "      <td>1985</td>\n",
              "      <td>Medium</td>\n",
              "      <td>Tier 3</td>\n",
              "      <td>Supermarket Type3</td>\n",
              "      <td>2303.6680</td>\n",
              "    </tr>\n",
              "    <tr>\n",
              "      <th>19</th>\n",
              "      <td>FDU02</td>\n",
              "      <td>13.35</td>\n",
              "      <td>Low Fat</td>\n",
              "      <td>0.102492</td>\n",
              "      <td>Dairy</td>\n",
              "      <td>230.5352</td>\n",
              "      <td>OUT035</td>\n",
              "      <td>2004</td>\n",
              "      <td>Small</td>\n",
              "      <td>Tier 2</td>\n",
              "      <td>Supermarket Type1</td>\n",
              "      <td>2748.4224</td>\n",
              "    </tr>\n",
              "    <tr>\n",
              "      <th>20</th>\n",
              "      <td>FDN22</td>\n",
              "      <td>18.85</td>\n",
              "      <td>Regular</td>\n",
              "      <td>0.138190</td>\n",
              "      <td>Snack Foods</td>\n",
              "      <td>250.8724</td>\n",
              "      <td>OUT013</td>\n",
              "      <td>1987</td>\n",
              "      <td>High</td>\n",
              "      <td>Tier 3</td>\n",
              "      <td>Supermarket Type1</td>\n",
              "      <td>3775.0860</td>\n",
              "    </tr>\n",
              "    <tr>\n",
              "      <th>21</th>\n",
              "      <td>FDW12</td>\n",
              "      <td>Missing</td>\n",
              "      <td>Regular</td>\n",
              "      <td>0.035400</td>\n",
              "      <td>Baking Goods</td>\n",
              "      <td>144.5444</td>\n",
              "      <td>OUT027</td>\n",
              "      <td>1985</td>\n",
              "      <td>Medium</td>\n",
              "      <td>Tier 3</td>\n",
              "      <td>Supermarket Type3</td>\n",
              "      <td>4064.0432</td>\n",
              "    </tr>\n",
              "    <tr>\n",
              "      <th>22</th>\n",
              "      <td>NCB30</td>\n",
              "      <td>14.6</td>\n",
              "      <td>Low Fat</td>\n",
              "      <td>0.025698</td>\n",
              "      <td>Household</td>\n",
              "      <td>196.5084</td>\n",
              "      <td>OUT035</td>\n",
              "      <td>2004</td>\n",
              "      <td>Small</td>\n",
              "      <td>Tier 2</td>\n",
              "      <td>Supermarket Type1</td>\n",
              "      <td>1587.2672</td>\n",
              "    </tr>\n",
              "    <tr>\n",
              "      <th>23</th>\n",
              "      <td>FDC37</td>\n",
              "      <td>Missing</td>\n",
              "      <td>Low Fat</td>\n",
              "      <td>0.057557</td>\n",
              "      <td>Baking Goods</td>\n",
              "      <td>107.6938</td>\n",
              "      <td>OUT019</td>\n",
              "      <td>1985</td>\n",
              "      <td>Small</td>\n",
              "      <td>Tier 1</td>\n",
              "      <td>Grocery Store</td>\n",
              "      <td>214.3876</td>\n",
              "    </tr>\n",
              "    <tr>\n",
              "      <th>24</th>\n",
              "      <td>FDR28</td>\n",
              "      <td>13.85</td>\n",
              "      <td>Regular</td>\n",
              "      <td>0.025896</td>\n",
              "      <td>Frozen Foods</td>\n",
              "      <td>165.0210</td>\n",
              "      <td>OUT046</td>\n",
              "      <td>1997</td>\n",
              "      <td>Small</td>\n",
              "      <td>Tier 1</td>\n",
              "      <td>Supermarket Type1</td>\n",
              "      <td>4078.0250</td>\n",
              "    </tr>\n",
              "    <tr>\n",
              "      <th>25</th>\n",
              "      <td>NCD06</td>\n",
              "      <td>13.0</td>\n",
              "      <td>Low Fat</td>\n",
              "      <td>0.099887</td>\n",
              "      <td>Household</td>\n",
              "      <td>45.9060</td>\n",
              "      <td>OUT017</td>\n",
              "      <td>2007</td>\n",
              "      <td>Missing</td>\n",
              "      <td>Tier 2</td>\n",
              "      <td>Supermarket Type1</td>\n",
              "      <td>838.9080</td>\n",
              "    </tr>\n",
              "    <tr>\n",
              "      <th>26</th>\n",
              "      <td>FDV10</td>\n",
              "      <td>7.645</td>\n",
              "      <td>Regular</td>\n",
              "      <td>0.066693</td>\n",
              "      <td>Snack Foods</td>\n",
              "      <td>42.3112</td>\n",
              "      <td>OUT035</td>\n",
              "      <td>2004</td>\n",
              "      <td>Small</td>\n",
              "      <td>Tier 2</td>\n",
              "      <td>Supermarket Type1</td>\n",
              "      <td>1065.2800</td>\n",
              "    </tr>\n",
              "    <tr>\n",
              "      <th>27</th>\n",
              "      <td>DRJ59</td>\n",
              "      <td>11.65</td>\n",
              "      <td>Low Fat</td>\n",
              "      <td>0.019356</td>\n",
              "      <td>Hard Drinks</td>\n",
              "      <td>39.1164</td>\n",
              "      <td>OUT013</td>\n",
              "      <td>1987</td>\n",
              "      <td>High</td>\n",
              "      <td>Tier 3</td>\n",
              "      <td>Supermarket Type1</td>\n",
              "      <td>308.9312</td>\n",
              "    </tr>\n",
              "    <tr>\n",
              "      <th>28</th>\n",
              "      <td>FDE51</td>\n",
              "      <td>5.925</td>\n",
              "      <td>Regular</td>\n",
              "      <td>0.161467</td>\n",
              "      <td>Dairy</td>\n",
              "      <td>45.5086</td>\n",
              "      <td>OUT010</td>\n",
              "      <td>1998</td>\n",
              "      <td>Missing</td>\n",
              "      <td>Tier 3</td>\n",
              "      <td>Grocery Store</td>\n",
              "      <td>178.4344</td>\n",
              "    </tr>\n",
              "    <tr>\n",
              "      <th>29</th>\n",
              "      <td>FDC14</td>\n",
              "      <td>Missing</td>\n",
              "      <td>Regular</td>\n",
              "      <td>0.072222</td>\n",
              "      <td>Canned</td>\n",
              "      <td>43.6454</td>\n",
              "      <td>OUT019</td>\n",
              "      <td>1985</td>\n",
              "      <td>Small</td>\n",
              "      <td>Tier 1</td>\n",
              "      <td>Grocery Store</td>\n",
              "      <td>125.8362</td>\n",
              "    </tr>\n",
              "  </tbody>\n",
              "</table>\n",
              "</div>\n",
              "      <button class=\"colab-df-convert\" onclick=\"convertToInteractive('df-060d22c6-c774-440a-8097-34b4a1e9b82d')\"\n",
              "              title=\"Convert this dataframe to an interactive table.\"\n",
              "              style=\"display:none;\">\n",
              "        \n",
              "  <svg xmlns=\"http://www.w3.org/2000/svg\" height=\"24px\"viewBox=\"0 0 24 24\"\n",
              "       width=\"24px\">\n",
              "    <path d=\"M0 0h24v24H0V0z\" fill=\"none\"/>\n",
              "    <path d=\"M18.56 5.44l.94 2.06.94-2.06 2.06-.94-2.06-.94-.94-2.06-.94 2.06-2.06.94zm-11 1L8.5 8.5l.94-2.06 2.06-.94-2.06-.94L8.5 2.5l-.94 2.06-2.06.94zm10 10l.94 2.06.94-2.06 2.06-.94-2.06-.94-.94-2.06-.94 2.06-2.06.94z\"/><path d=\"M17.41 7.96l-1.37-1.37c-.4-.4-.92-.59-1.43-.59-.52 0-1.04.2-1.43.59L10.3 9.45l-7.72 7.72c-.78.78-.78 2.05 0 2.83L4 21.41c.39.39.9.59 1.41.59.51 0 1.02-.2 1.41-.59l7.78-7.78 2.81-2.81c.8-.78.8-2.07 0-2.86zM5.41 20L4 18.59l7.72-7.72 1.47 1.35L5.41 20z\"/>\n",
              "  </svg>\n",
              "      </button>\n",
              "      \n",
              "  <style>\n",
              "    .colab-df-container {\n",
              "      display:flex;\n",
              "      flex-wrap:wrap;\n",
              "      gap: 12px;\n",
              "    }\n",
              "\n",
              "    .colab-df-convert {\n",
              "      background-color: #E8F0FE;\n",
              "      border: none;\n",
              "      border-radius: 50%;\n",
              "      cursor: pointer;\n",
              "      display: none;\n",
              "      fill: #1967D2;\n",
              "      height: 32px;\n",
              "      padding: 0 0 0 0;\n",
              "      width: 32px;\n",
              "    }\n",
              "\n",
              "    .colab-df-convert:hover {\n",
              "      background-color: #E2EBFA;\n",
              "      box-shadow: 0px 1px 2px rgba(60, 64, 67, 0.3), 0px 1px 3px 1px rgba(60, 64, 67, 0.15);\n",
              "      fill: #174EA6;\n",
              "    }\n",
              "\n",
              "    [theme=dark] .colab-df-convert {\n",
              "      background-color: #3B4455;\n",
              "      fill: #D2E3FC;\n",
              "    }\n",
              "\n",
              "    [theme=dark] .colab-df-convert:hover {\n",
              "      background-color: #434B5C;\n",
              "      box-shadow: 0px 1px 3px 1px rgba(0, 0, 0, 0.15);\n",
              "      filter: drop-shadow(0px 1px 2px rgba(0, 0, 0, 0.3));\n",
              "      fill: #FFFFFF;\n",
              "    }\n",
              "  </style>\n",
              "\n",
              "      <script>\n",
              "        const buttonEl =\n",
              "          document.querySelector('#df-060d22c6-c774-440a-8097-34b4a1e9b82d button.colab-df-convert');\n",
              "        buttonEl.style.display =\n",
              "          google.colab.kernel.accessAllowed ? 'block' : 'none';\n",
              "\n",
              "        async function convertToInteractive(key) {\n",
              "          const element = document.querySelector('#df-060d22c6-c774-440a-8097-34b4a1e9b82d');\n",
              "          const dataTable =\n",
              "            await google.colab.kernel.invokeFunction('convertToInteractive',\n",
              "                                                     [key], {});\n",
              "          if (!dataTable) return;\n",
              "\n",
              "          const docLinkHtml = 'Like what you see? Visit the ' +\n",
              "            '<a target=\"_blank\" href=https://colab.research.google.com/notebooks/data_table.ipynb>data table notebook</a>'\n",
              "            + ' to learn more about interactive tables.';\n",
              "          element.innerHTML = '';\n",
              "          dataTable['output_type'] = 'display_data';\n",
              "          await google.colab.output.renderOutput(dataTable, element);\n",
              "          const docLink = document.createElement('div');\n",
              "          docLink.innerHTML = docLinkHtml;\n",
              "          element.appendChild(docLink);\n",
              "        }\n",
              "      </script>\n",
              "    </div>\n",
              "  </div>\n",
              "  "
            ]
          },
          "metadata": {},
          "execution_count": 126
        }
      ]
    },
    {
      "cell_type": "markdown",
      "source": [
        "## Exploratory Visuals ##"
      ],
      "metadata": {
        "id": "FhGvH4eu9sPd"
      }
    },
    {
      "cell_type": "code",
      "source": [
        "df['Item_Visibility'].head()"
      ],
      "metadata": {
        "id": "F1wt69vOwhC1",
        "colab": {
          "base_uri": "https://localhost:8080/"
        },
        "outputId": "17128b51-53d4-49d4-db1b-bedf359d52e6"
      },
      "execution_count": null,
      "outputs": [
        {
          "output_type": "execute_result",
          "data": {
            "text/plain": [
              "0    0.016047\n",
              "1    0.019278\n",
              "2    0.016760\n",
              "3    0.000000\n",
              "4    0.000000\n",
              "Name: Item_Visibility, dtype: float64"
            ]
          },
          "metadata": {},
          "execution_count": 127
        }
      ]
    },
    {
      "cell_type": "code",
      "source": [
        "df['Item_Outlet_Sales'].head()"
      ],
      "metadata": {
        "id": "pRs9fF6_wytU",
        "colab": {
          "base_uri": "https://localhost:8080/"
        },
        "outputId": "dd918c8e-2f6c-428a-e16e-d3d32c499397"
      },
      "execution_count": null,
      "outputs": [
        {
          "output_type": "execute_result",
          "data": {
            "text/plain": [
              "0    3735.1380\n",
              "1     443.4228\n",
              "2    2097.2700\n",
              "3     732.3800\n",
              "4     994.7052\n",
              "Name: Item_Outlet_Sales, dtype: float64"
            ]
          },
          "metadata": {},
          "execution_count": 128
        }
      ]
    },
    {
      "cell_type": "markdown",
      "source": [
        "The follow graph shows the comparison of the Item Visibility versus its outlet sales.  It is showing an inverse relationship between the two items.  Further anaylsis is needed to determine the causes and how to raise the visibility of some items, while raising the question of the necessary visibility of other items."
      ],
      "metadata": {
        "id": "tFhConEGHI6S"
      }
    },
    {
      "cell_type": "code",
      "source": [
        "df['Item_Visibility'].hist()\n",
        "ax=df['Item_Visibility'].hist()\n",
        "ax=df['Item_Visibility'].hist(bins = 10, edgecolor = 'black')\n",
        "ax.set_title('Item Visibility v. Item Outlet Sales')\n",
        "ax.set_xlabel('Item Visibility')\n",
        "ax.set_ylabel('Item Outlet Sales')"
      ],
      "metadata": {
        "id": "wZxPV6Y5yHni",
        "colab": {
          "base_uri": "https://localhost:8080/",
          "height": 312
        },
        "outputId": "86d2cdbd-3573-41ff-a32f-f47980ae2fe4"
      },
      "execution_count": null,
      "outputs": [
        {
          "output_type": "execute_result",
          "data": {
            "text/plain": [
              "Text(0, 0.5, 'Item Outlet Sales')"
            ]
          },
          "metadata": {},
          "execution_count": 129
        },
        {
          "output_type": "display_data",
          "data": {
            "text/plain": [
              "<Figure size 432x288 with 1 Axes>"
            ],
            "image/png": "[encoded data removed]"
          },
          "metadata": {
            "needs_background": "light"
          }
        }
      ]
    },
    {
      "cell_type": "code",
      "source": [
        "import matplotlib.pyplot as plt\n",
        "import seaborn as sns\n",
        "import pandas as pd\n",
        "import numpy as np"
      ],
      "metadata": {
        "id": "A0vPuuqyN6h7"
      },
      "execution_count": null,
      "outputs": []
    },
    {
      "cell_type": "code",
      "source": [
        "ax = sns.boxplot(x = 'Item_Outlet_Sales', y = 'Item_Visibility', data = df)"
      ],
      "metadata": {
        "id": "PwvF9nuWJosN",
        "colab": {
          "base_uri": "https://localhost:8080/",
          "height": 280
        },
        "outputId": "d8151c26-cfc9-475b-b1c4-0b2dc05e6ea5"
      },
      "execution_count": 137,
      "outputs": [
        {
          "output_type": "display_data",
          "data": {
            "text/plain": [
              "<Figure size 432x288 with 1 Axes>"
            ],
            "image/png": "[encoded data removed]"
          },
          "metadata": {
            "needs_background": "light"
          }
        }
      ]
    },
    {
      "cell_type": "code",
      "source": [
        "fig,ax = plt.subplots(figsize = (12,10))\n",
        "df.corr()\n",
        "corr = Item_Visibility\n",
        "ax = sns.heatmap(corr, cmap= 'Blues', annot = True)"
      ],
      "metadata": {
        "id": "z29fPzt0UcuZ"
      },
      "execution_count": null,
      "outputs": []
    },
    {
      "cell_type": "markdown",
      "source": [
        "## Exploratory Visuals ##"
      ],
      "metadata": {
        "id": "CiulBmwE-XbZ"
      }
    }
  ]
}